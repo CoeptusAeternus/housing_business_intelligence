{
 "cells": [
  {
   "cell_type": "markdown",
   "id": "cb9175af-5822-42ae-9dc9-e84e17b57bef",
   "metadata": {},
   "source": [
    "Imports"
   ]
  },
  {
   "cell_type": "code",
   "execution_count": 6,
   "id": "ce2294f5-60d8-4bab-b332-ed6ac63eaac7",
   "metadata": {},
   "outputs": [],
   "source": [
    "import kagglehub\n",
    "import os\n",
    "import pandas as pd"
   ]
  },
  {
   "cell_type": "markdown",
   "id": "fe266abc-be8c-4904-b3dc-cec277482d02",
   "metadata": {},
   "source": [
    "Data Downloads"
   ]
  },
  {
   "cell_type": "code",
   "execution_count": 3,
   "id": "d075ec8a-7c74-4b53-a3d0-5fa48c7ec6ea",
   "metadata": {},
   "outputs": [],
   "source": [
    "# Craigslist\n",
    "path_craigslist = kagglehub.dataset_download(\"michaelbryantds/bay-area-craigslist-rentals\")\n",
    "\n",
    "# Germany\n",
    "path_germany = kagglehub.dataset_download(\"corrieaar/apartment-rental-offers-in-germany\")\n",
    "\n",
    "# Poland\n",
    "path_poland = kagglehub.dataset_download(\"krzysztofjamroz/apartment-prices-in-poland\")"
   ]
  },
  {
   "cell_type": "code",
   "execution_count": 5,
   "id": "2778db55-4432-4571-adca-06b17855ce95",
   "metadata": {},
   "outputs": [
    {
     "name": "stdout",
     "output_type": "stream",
     "text": [
      "Craigslist CSVs: ['clean_2000_2018.csv']\n",
      "Germany CSVs: ['immo_data.csv']\n",
      "Poland CSVs: ['apartments_pl_2023_08.csv', 'apartments_pl_2023_09.csv', 'apartments_pl_2023_10.csv', 'apartments_pl_2023_11.csv', 'apartments_pl_2023_12.csv', 'apartments_pl_2024_01.csv', 'apartments_pl_2024_02.csv', 'apartments_pl_2024_03.csv', 'apartments_pl_2024_04.csv', 'apartments_pl_2024_05.csv', 'apartments_pl_2024_06.csv', 'apartments_rent_pl_2023_11.csv', 'apartments_rent_pl_2023_12.csv', 'apartments_rent_pl_2024_01.csv', 'apartments_rent_pl_2024_02.csv', 'apartments_rent_pl_2024_03.csv', 'apartments_rent_pl_2024_04.csv', 'apartments_rent_pl_2024_05.csv', 'apartments_rent_pl_2024_06.csv']\n"
     ]
    }
   ],
   "source": [
    "# List CSV files in each dataset folder\n",
    "craigslist_csvs = [f for f in os.listdir(path_craigslist) if f.endswith('.csv')]\n",
    "germany_csvs = [f for f in os.listdir(path_germany) if f.endswith('.csv')]\n",
    "poland_csvs = [f for f in os.listdir(path_poland) if f.endswith('.csv')]\n",
    "\n",
    "print(\"Craigslist CSVs:\", craigslist_csvs)\n",
    "print(\"Germany CSVs:\", germany_csvs)\n",
    "print(\"Poland CSVs:\", poland_csvs)\n"
   ]
  },
  {
   "cell_type": "code",
   "execution_count": 9,
   "id": "efe66371-d80d-46f4-9cac-fd8388fe82fd",
   "metadata": {},
   "outputs": [],
   "source": [
    "# Example: Load first CSV file from each dataset\n",
    "df_craigslist = pd.read_csv(\n",
    "    os.path.join(path_craigslist, craigslist_csvs[0]),\n",
    "    low_memory=False\n",
    ")\n",
    "df_germany = pd.read_csv(os.path.join(path_germany, germany_csvs[0]))\n",
    "df_poland = pd.read_csv(os.path.join(path_poland, poland_csvs[0]))"
   ]
  },
  {
   "cell_type": "code",
   "execution_count": 10,
   "id": "b4247779-df8d-402e-82aa-3dd1a5a74fa5",
   "metadata": {},
   "outputs": [
    {
     "name": "stdout",
     "output_type": "stream",
     "text": [
      "          post_id      date  year    nhood     city   county  price beds  \\\n",
      "0  pre2013_134138  20050111  2005  alameda  alameda  alameda   1250    2   \n",
      "1  pre2013_135669  20050126  2005  alameda  alameda  alameda   1295    2   \n",
      "2  pre2013_127127  20041017  2004  alameda  alameda  alameda   1100    2   \n",
      "3   pre2013_68671  20120601  2012  alameda  alameda  alameda   1425    1   \n",
      "4  pre2013_127580  20041021  2004  alameda  alameda  alameda    890    1   \n",
      "\n",
      "   baths   sqft  room_in_apt address  lat  lon  \\\n",
      "0    2.0    NaN            0     NaN  NaN  NaN   \n",
      "1    NaN    NaN            0     NaN  NaN  NaN   \n",
      "2    NaN    NaN            0     NaN  NaN  NaN   \n",
      "3    NaN  735.0            0     NaN  NaN  NaN   \n",
      "4    NaN    NaN            0     NaN  NaN  NaN   \n",
      "\n",
      "                                               title descr details  \n",
      "0  $1250 / 2br - 2BR/2BA   1145 ALAMEDA DE LAS PU...   NaN     NaN  \n",
      "1  $1295 / 2br - Walk the Beach! 1 FREE MONTH + $...   NaN     NaN  \n",
      "2                             $1100 / 2br - cottage    NaN     NaN  \n",
      "3  $1425 / 1br - 735ft² - BEST LOCATION SOUTHSHOR...   NaN     NaN  \n",
      "4  $890 / 1br - Classy \"Painted Lady\" VICTORIAN -...   NaN     NaN  \n",
      "                regio1  serviceCharge                     heatingType  \\\n",
      "0  Nordrhein_Westfalen         245.00                 central_heating   \n",
      "1      Rheinland_Pfalz         134.00  self_contained_central_heating   \n",
      "2              Sachsen         255.00                   floor_heating   \n",
      "3              Sachsen          58.15                district_heating   \n",
      "4               Bremen         138.00  self_contained_central_heating   \n",
      "\n",
      "  telekomTvOffer  telekomHybridUploadSpeed  newlyConst  balcony  picturecount  \\\n",
      "0  ONE_YEAR_FREE                       NaN       False    False             6   \n",
      "1  ONE_YEAR_FREE                       NaN       False     True             8   \n",
      "2  ONE_YEAR_FREE                      10.0        True     True             8   \n",
      "3  ONE_YEAR_FREE                       NaN       False     True             9   \n",
      "4            NaN                       NaN       False     True            19   \n",
      "\n",
      "   pricetrend  telekomUploadSpeed  ...               regio2  \\\n",
      "0        4.62                10.0  ...             Dortmund   \n",
      "1        3.47                10.0  ...    Rhein_Pfalz_Kreis   \n",
      "2        2.72                 2.4  ...              Dresden   \n",
      "3        1.53                40.0  ...  Mittelsachsen_Kreis   \n",
      "4        2.46                 NaN  ...               Bremen   \n",
      "\n",
      "                       regio3  \\\n",
      "0                     Schüren   \n",
      "1              Böhl_Iggelheim   \n",
      "2  Äußere_Neustadt_Antonstadt   \n",
      "3                    Freiberg   \n",
      "4           Neu_Schwachhausen   \n",
      "\n",
      "                                         description  \\\n",
      "0  Die ebenerdig zu erreichende Erdgeschosswohnun...   \n",
      "1  Alles neu macht der Mai – so kann es auch für ...   \n",
      "2  Der Neubau entsteht im Herzen der Dresdner Neu...   \n",
      "3  Abseits von Lärm und Abgasen in Ihre neue Wohn...   \n",
      "4  Es handelt sich hier um ein saniertes Mehrfami...   \n",
      "\n",
      "                                          facilities heatingCosts  \\\n",
      "0  Die Wohnung ist mit Laminat ausgelegt. Das Bad...          NaN   \n",
      "1                                                NaN          NaN   \n",
      "2  * 9 m² Balkon\\n* Bad mit bodengleicher Dusche,...          NaN   \n",
      "3                                                NaN        87.23   \n",
      "4  Diese Wohnung wurde neu saniert und ist wie fo...          NaN   \n",
      "\n",
      "   energyEfficiencyClass lastRefurbish  electricityBasePrice  \\\n",
      "0                    NaN           NaN                   NaN   \n",
      "1                    NaN        2019.0                   NaN   \n",
      "2                    NaN           NaN                   NaN   \n",
      "3                    NaN           NaN                   NaN   \n",
      "4                    NaN           NaN                   NaN   \n",
      "\n",
      "   electricityKwhPrice   date  \n",
      "0                  NaN  May19  \n",
      "1                  NaN  May19  \n",
      "2                  NaN  Oct19  \n",
      "3                  NaN  May19  \n",
      "4                  NaN  Feb20  \n",
      "\n",
      "[5 rows x 49 columns]\n",
      "                                 id      city          type  squareMeters  \\\n",
      "0  f8524536d4b09a0c8ccc0197ec9d7bde  szczecin  blockOfFlats         63.00   \n",
      "1  accbe77d4b360fea9735f138a50608dd  szczecin  blockOfFlats         36.00   \n",
      "2  8373aa373dbc3fe7ca3b7434166b8766  szczecin      tenement         73.02   \n",
      "3  0a68cd14c44ec5140143ece75d739535  szczecin      tenement         87.60   \n",
      "4  f66320e153c2441edc0fe293b54c8aeb  szczecin  blockOfFlats         66.00   \n",
      "\n",
      "   rooms  floor  floorCount  buildYear   latitude  longitude  ...  \\\n",
      "0    3.0    4.0        10.0     1980.0  53.378933  14.625296  ...   \n",
      "1    2.0    8.0        10.0        NaN  53.442692  14.559690  ...   \n",
      "2    3.0    2.0         3.0        NaN  53.452222  14.553333  ...   \n",
      "3    3.0    2.0         3.0        NaN  53.435100  14.532900  ...   \n",
      "4    3.0    1.0         3.0        NaN  53.410278  14.503611  ...   \n",
      "\n",
      "   pharmacyDistance    ownership  buildingMaterial  condition  \\\n",
      "0             0.413  condominium      concreteSlab        NaN   \n",
      "1             0.205  cooperative      concreteSlab        NaN   \n",
      "2             0.280  condominium             brick        NaN   \n",
      "3             0.087  condominium             brick        NaN   \n",
      "4             0.514  condominium               NaN        NaN   \n",
      "\n",
      "   hasParkingSpace  hasBalcony  hasElevator  hasSecurity  hasStorageRoom  \\\n",
      "0              yes         yes          yes           no             yes   \n",
      "1               no         yes          yes           no             yes   \n",
      "2               no          no           no           no              no   \n",
      "3              yes         yes           no           no             yes   \n",
      "4               no          no           no           no              no   \n",
      "\n",
      "    price  \n",
      "0  415000  \n",
      "1  395995  \n",
      "2  565000  \n",
      "3  640000  \n",
      "4  759000  \n",
      "\n",
      "[5 rows x 28 columns]\n"
     ]
    }
   ],
   "source": [
    "print(df_craigslist.head())\n",
    "print(df_germany.head())\n",
    "print(df_poland.head())"
   ]
  },
  {
   "cell_type": "code",
   "execution_count": null,
   "id": "73019e6f-3859-4e72-864a-1d0b828c7418",
   "metadata": {},
   "outputs": [],
   "source": []
  }
 ],
 "metadata": {
  "kernelspec": {
   "display_name": "Python 3 (ipykernel)",
   "language": "python",
   "name": "python3"
  },
  "language_info": {
   "codemirror_mode": {
    "name": "ipython",
    "version": 3
   },
   "file_extension": ".py",
   "mimetype": "text/x-python",
   "name": "python",
   "nbconvert_exporter": "python",
   "pygments_lexer": "ipython3",
   "version": "3.11.7"
  }
 },
 "nbformat": 4,
 "nbformat_minor": 5
}
