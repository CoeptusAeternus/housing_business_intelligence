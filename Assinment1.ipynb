{
 "cells": [
  {
   "cell_type": "markdown",
   "id": "cb9175af-5822-42ae-9dc9-e84e17b57bef",
   "metadata": {},
   "source": [
    "Imports"
   ]
  },
  {
   "cell_type": "code",
   "execution_count": 1,
   "id": "ce2294f5-60d8-4bab-b332-ed6ac63eaac7",
   "metadata": {},
   "outputs": [],
   "source": [
    "import kagglehub"
   ]
  },
  {
   "cell_type": "code",
   "execution_count": 3,
   "id": "d075ec8a-7c74-4b53-a3d0-5fa48c7ec6ea",
   "metadata": {},
   "outputs": [],
   "source": [
    "# Craigslist\n",
    "path_craigslist = kagglehub.dataset_download(\"michaelbryantds/bay-area-craigslist-rentals\")\n",
    "\n",
    "# Germany\n",
    "path_germany = kagglehub.dataset_download(\"corrieaar/apartment-rental-offers-in-germany\")\n",
    "\n",
    "# Poland\n",
    "path_poland = kagglehub.dataset_download(\"krzysztofjamroz/apartment-prices-in-poland\")"
   ]
  },
  {
   "cell_type": "code",
   "execution_count": null,
   "id": "2778db55-4432-4571-adca-06b17855ce95",
   "metadata": {},
   "outputs": [],
   "source": []
  }
 ],
 "metadata": {
  "kernelspec": {
   "display_name": "Python 3 (ipykernel)",
   "language": "python",
   "name": "python3"
  },
  "language_info": {
   "codemirror_mode": {
    "name": "ipython",
    "version": 3
   },
   "file_extension": ".py",
   "mimetype": "text/x-python",
   "name": "python",
   "nbconvert_exporter": "python",
   "pygments_lexer": "ipython3",
   "version": "3.11.7"
  }
 },
 "nbformat": 4,
 "nbformat_minor": 5
}
