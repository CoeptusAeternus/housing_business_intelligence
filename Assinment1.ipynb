{
 "cells": [
  {
   "cell_type": "markdown",
   "id": "cb9175af-5822-42ae-9dc9-e84e17b57bef",
   "metadata": {},
   "source": [
    "Imports"
   ]
  },
  {
   "cell_type": "code",
   "execution_count": 6,
   "id": "ce2294f5-60d8-4bab-b332-ed6ac63eaac7",
   "metadata": {},
   "outputs": [],
   "source": [
    "import kagglehub\n",
    "import os\n",
    "import pandas as pd"
   ]
  },
  {
   "cell_type": "markdown",
   "id": "fe266abc-be8c-4904-b3dc-cec277482d02",
   "metadata": {},
   "source": [
    "Data Downloads"
   ]
  },
  {
   "cell_type": "code",
   "execution_count": 3,
   "id": "d075ec8a-7c74-4b53-a3d0-5fa48c7ec6ea",
   "metadata": {},
   "outputs": [],
   "source": [
    "# Craigslist\n",
    "path_craigslist = kagglehub.dataset_download(\"michaelbryantds/bay-area-craigslist-rentals\")\n",
    "\n",
    "# Germany\n",
    "path_germany = kagglehub.dataset_download(\"corrieaar/apartment-rental-offers-in-germany\")\n",
    "\n",
    "# Poland\n",
    "path_poland = kagglehub.dataset_download(\"krzysztofjamroz/apartment-prices-in-poland\")"
   ]
  },
  {
   "cell_type": "code",
   "execution_count": 5,
   "id": "2778db55-4432-4571-adca-06b17855ce95",
   "metadata": {},
   "outputs": [
    {
     "name": "stdout",
     "output_type": "stream",
     "text": [
      "Craigslist CSVs: ['clean_2000_2018.csv']\n",
      "Germany CSVs: ['immo_data.csv']\n",
      "Poland CSVs: ['apartments_pl_2023_08.csv', 'apartments_pl_2023_09.csv', 'apartments_pl_2023_10.csv', 'apartments_pl_2023_11.csv', 'apartments_pl_2023_12.csv', 'apartments_pl_2024_01.csv', 'apartments_pl_2024_02.csv', 'apartments_pl_2024_03.csv', 'apartments_pl_2024_04.csv', 'apartments_pl_2024_05.csv', 'apartments_pl_2024_06.csv', 'apartments_rent_pl_2023_11.csv', 'apartments_rent_pl_2023_12.csv', 'apartments_rent_pl_2024_01.csv', 'apartments_rent_pl_2024_02.csv', 'apartments_rent_pl_2024_03.csv', 'apartments_rent_pl_2024_04.csv', 'apartments_rent_pl_2024_05.csv', 'apartments_rent_pl_2024_06.csv']\n"
     ]
    }
   ],
   "source": [
    "# List CSV files in each dataset folder\n",
    "craigslist_csvs = [f for f in os.listdir(path_craigslist) if f.endswith('.csv')]\n",
    "germany_csvs = [f for f in os.listdir(path_germany) if f.endswith('.csv')]\n",
    "poland_csvs = [f for f in os.listdir(path_poland) if f.endswith('.csv')]\n",
    "\n",
    "print(\"Craigslist CSVs:\", craigslist_csvs)\n",
    "print(\"Germany CSVs:\", germany_csvs)\n",
    "print(\"Poland CSVs:\", poland_csvs)\n"
   ]
  },
  {
   "cell_type": "code",
   "execution_count": 7,
   "id": "efe66371-d80d-46f4-9cac-fd8388fe82fd",
   "metadata": {},
   "outputs": [
    {
     "name": "stderr",
     "output_type": "stream",
     "text": [
      "C:\\Users\\Mahdi\\AppData\\Local\\Temp\\ipykernel_18528\\783534574.py:2: DtypeWarning: Columns (7) have mixed types. Specify dtype option on import or set low_memory=False.\n",
      "  df_craigslist = pd.read_csv(os.path.join(path_craigslist, craigslist_csvs[0]))\n"
     ]
    }
   ],
   "source": [
    "# Example: Load first CSV file from each dataset\n",
    "df_craigslist = pd.read_csv(os.path.join(path_craigslist, craigslist_csvs[0]))\n",
    "df_germany = pd.read_csv(os.path.join(path_germany, germany_csvs[0]))\n",
    "df_poland = pd.read_csv(os.path.join(path_poland, poland_csvs[0]))\n"
   ]
  },
  {
   "cell_type": "code",
   "execution_count": null,
   "id": "b4247779-df8d-402e-82aa-3dd1a5a74fa5",
   "metadata": {},
   "outputs": [],
   "source": [
    "print(df_craigslist.head())\n",
    "print(df_germany.head())\n",
    "print(df_poland.head())"
   ]
  }
 ],
 "metadata": {
  "kernelspec": {
   "display_name": "Python 3 (ipykernel)",
   "language": "python",
   "name": "python3"
  },
  "language_info": {
   "codemirror_mode": {
    "name": "ipython",
    "version": 3
   },
   "file_extension": ".py",
   "mimetype": "text/x-python",
   "name": "python",
   "nbconvert_exporter": "python",
   "pygments_lexer": "ipython3",
   "version": "3.11.7"
  }
 },
 "nbformat": 4,
 "nbformat_minor": 5
}
